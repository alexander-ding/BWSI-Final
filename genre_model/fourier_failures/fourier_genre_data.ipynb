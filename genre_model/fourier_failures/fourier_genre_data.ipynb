{
 "cells": [
  {
   "cell_type": "code",
   "execution_count": 15,
   "metadata": {},
   "outputs": [],
   "source": [
    "import numpy as np\n",
    "import mygrad as mg\n",
    "import matplotlib.pyplot as plt\n",
    "import matplotlib.mlab as lab\n",
    "import librosa\n",
    "from utils import get_audio_path"
   ]
  },
  {
   "cell_type": "code",
   "execution_count": 16,
   "metadata": {},
   "outputs": [],
   "source": [
    "data = np.load(\"data/songs.npz\")\n",
    "ids = data[\"data_id\"]\n",
    "genres = data[\"data_y\"]\n",
    "BASE = \"fma_small\""
   ]
  },
  {
   "cell_type": "code",
   "execution_count": 17,
   "metadata": {
    "scrolled": true
   },
   "outputs": [
    {
     "name": "stderr",
     "output_type": "stream",
     "text": [
      "/anaconda3/lib/python3.6/site-packages/matplotlib/mlab.py:1274: UserWarning: Only one segment is calculated since parameter NFFT (=200) >= signal length (=0).\n",
      "  \"(=%d) >= signal length (=%d).\" % (NFFT, len(x)))\n"
     ]
    },
    {
     "name": "stdout",
     "output_type": "stream",
     "text": [
      "1000 done!\n",
      "2000 done!\n",
      "3000 done!\n",
      "4000 done!\n",
      "5000 done!\n",
      "6000 done!\n"
     ]
    },
    {
     "name": "stderr",
     "output_type": "stream",
     "text": [
      "/anaconda3/lib/python3.6/site-packages/matplotlib/mlab.py:1274: UserWarning: Only one segment is calculated since parameter NFFT (=200) >= signal length (=0).\n",
      "  \"(=%d) >= signal length (=%d).\" % (NFFT, len(x)))\n",
      "/anaconda3/lib/python3.6/site-packages/matplotlib/mlab.py:1274: UserWarning: Only one segment is calculated since parameter NFFT (=200) >= signal length (=0).\n",
      "  \"(=%d) >= signal length (=%d).\" % (NFFT, len(x)))\n"
     ]
    },
    {
     "name": "stdout",
     "output_type": "stream",
     "text": [
      "7000 done!\n"
     ]
    }
   ],
   "source": [
    "l = []\n",
    "for i,id in enumerate(ids):\n",
    "    if i % 1000 == 0 and i != 0:\n",
    "        print(\"{} done!\".format(i))\n",
    "        l = np.transpose(np.array(l), (0,2,1))\n",
    "        np.save(\"data/song_fourier_{}\".format(i), l)\n",
    "        l = []\n",
    "    song, _ = librosa.load(get_audio_path(BASE, id), sr=44100)\n",
    "    s,f,t = lab.specgram(song,Fs=44100,NFFT=200)\n",
    "    if s.shape[-1] <= 3000:\n",
    "        continue\n",
    "    l.append(np.log(s+1e-10)[:,:3500])\n"
   ]
  },
  {
   "cell_type": "code",
   "execution_count": 18,
   "metadata": {},
   "outputs": [],
   "source": [
    "l = np.transpose(np.array(l), (0,2,1))\n",
    "np.save(\"data/song_fourier_8000\",l)"
   ]
  },
  {
   "cell_type": "code",
   "execution_count": 14,
   "metadata": {},
   "outputs": [
    {
     "name": "stdout",
     "output_type": "stream",
     "text": [
      "(91, 251, 3500)\n",
      "[[-11.57531255 -11.85127279 -11.15233645 ... -10.73074162 -11.0140941\n",
      "  -13.88682345]\n",
      " [-10.61149294 -11.04360714  -8.75177347 ...  -9.47889965  -9.89095298\n",
      "  -11.96048265]\n",
      " [-10.70951354 -11.48410935  -9.03444567 ...  -9.41700561  -9.25772384\n",
      "   -9.72138943]\n",
      " ...\n",
      " [-23.02582942 -23.02583107 -23.02583989 ... -23.02580802 -23.02574775\n",
      "  -23.02584396]\n",
      " [-23.02584375 -23.02584898 -23.02584943 ... -23.02580139 -23.02565958\n",
      "  -23.02583467]\n",
      " [-23.02584707 -23.02584863 -23.02585093 ... -23.02581608 -23.02564957\n",
      "  -23.02585086]]\n"
     ]
    },
    {
     "data": {
      "image/png": "[encoded data removed]",
      "text/plain": [
       "<Figure size 432x288 with 1 Axes>"
      ]
     },
     "metadata": {},
     "output_type": "display_data"
    }
   ],
   "source": [
    "print(np.array(l).shape)\n",
    "print(l[0])\n",
    "fig,ax = plt.subplots()\n",
    "ax.imshow(l[0]);"
   ]
  },
  {
   "cell_type": "code",
   "execution_count": null,
   "metadata": {},
   "outputs": [],
   "source": []
  }
 ],
 "metadata": {
  "kernelspec": {
   "display_name": "Python 3",
   "language": "python",
   "name": "python3"
  },
  "language_info": {
   "codemirror_mode": {
    "name": "ipython",
    "version": 3
   },
   "file_extension": ".py",
   "mimetype": "text/x-python",
   "name": "python",
   "nbconvert_exporter": "python",
   "pygments_lexer": "ipython3",
   "version": "3.6.5"
  }
 },
 "nbformat": 4,
 "nbformat_minor": 2
}
