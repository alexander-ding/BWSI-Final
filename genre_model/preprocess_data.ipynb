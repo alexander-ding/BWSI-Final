{
 "cells": [
  {
   "cell_type": "markdown",
   "metadata": {},
   "source": [
    "## Load Data"
   ]
  },
  {
   "cell_type": "code",
   "execution_count": 233,
   "metadata": {},
   "outputs": [
    {
     "name": "stderr",
     "output_type": "stream",
     "text": [
      "/Users/alexanderding/Desktop/genre_model/utils.py:213: FutureWarning: specifying 'categories' or 'ordered' in .astype() is deprecated; pass a CategoricalDtype instead\n",
      "  'category', categories=SUBSETS, ordered=True)\n"
     ]
    }
   ],
   "source": [
    "import utils\n",
    "import sklearn as skl\n",
    "import sklearn.utils, sklearn.preprocessing, sklearn.decomposition, sklearn.svm\n",
    "\n",
    "tracks = utils.load('tracks.csv')"
   ]
  },
  {
   "cell_type": "code",
   "execution_count": 234,
   "metadata": {},
   "outputs": [],
   "source": [
    "import IPython.display as ipd\n",
    "small = tracks['set', 'subset'] <= 'small'"
   ]
  },
  {
   "cell_type": "code",
   "execution_count": 235,
   "metadata": {},
   "outputs": [
    {
     "name": "stderr",
     "output_type": "stream",
     "text": [
      "/anaconda3/lib/python3.6/site-packages/ipykernel_launcher.py:4: FutureWarning: Series.data is deprecated and will be removed in a future version\n",
      "  after removing the cwd from sys.path.\n"
     ]
    }
   ],
   "source": [
    "genre_to_int = dict()\n",
    "genre_songs = list()\n",
    "\n",
    "for i,v in enumerate(small.data):\n",
    "    if v:\n",
    "        genre = tracks[\"track\",\"genre_top\"][i]\n",
    "        if genre in genre_to_int:\n",
    "            id = genre_to_int[genre]\n",
    "            genre_songs[id].append(i)\n",
    "        else:\n",
    "            genre_to_int[genre] = len(genre_to_int)\n",
    "            genre_songs.append([i])"
   ]
  },
  {
   "cell_type": "code",
   "execution_count": 248,
   "metadata": {},
   "outputs": [],
   "source": [
    "genres_pd = tracks[\"track\",\"genre_top\"][small]\n",
    "dataset_id_to_subset_id = np.array(genres_pd.keys())\n",
    "genre_to_int = dict()\n",
    "for i,v in enumerate(set(genres_pd)):\n",
    "    genre_to_int[v] = i\n",
    "genres = np.array([genre_to_int[genre] for genre in genres_pd])\n"
   ]
  },
  {
   "cell_type": "code",
   "execution_count": 250,
   "metadata": {},
   "outputs": [],
   "source": [
    "features_pd = utils.load('features.csv')"
   ]
  },
  {
   "cell_type": "code",
   "execution_count": 251,
   "metadata": {},
   "outputs": [],
   "source": [
    "features = np.array(features_pd.loc[dataset_id_to_subset_id])"
   ]
  },
  {
   "cell_type": "code",
   "execution_count": 258,
   "metadata": {},
   "outputs": [],
   "source": [
    "ids = np.array(dataset_id_to_subset_id)"
   ]
  },
  {
   "cell_type": "code",
   "execution_count": 260,
   "metadata": {},
   "outputs": [],
   "source": [
    "# need to shuffle the stuff\n",
    "idxs = np.random.permutation(len(ids))\n",
    "features = features[idxs]\n",
    "genres = genres[idxs]\n",
    "ids = ids[idxs]"
   ]
  },
  {
   "cell_type": "code",
   "execution_count": 267,
   "metadata": {
    "scrolled": true
   },
   "outputs": [
    {
     "name": "stdout",
     "output_type": "stream",
     "text": [
      "['Pop', 'Rock', 'Hip-Hop', 'Electronic', 'International', 'Instrumental', 'Experimental', 'Folk']\n"
     ]
    }
   ],
   "source": [
    "int_to_genre = [0] * len(genre_to_int)\n",
    "for k,v in genre_to_int.items():\n",
    "    int_to_genre[v] = k\n",
    "print(int_to_genre)"
   ]
  },
  {
   "cell_type": "code",
   "execution_count": 273,
   "metadata": {},
   "outputs": [],
   "source": [
    "# we have ids, features, genres\n",
    "np.savez(\"songs\",data_x=features,data_y=genres,\n",
    "        data_id=ids, mapping=int_to_genre)"
   ]
  },
  {
   "cell_type": "code",
   "execution_count": null,
   "metadata": {},
   "outputs": [],
   "source": []
  }
 ],
 "metadata": {
  "kernelspec": {
   "display_name": "Python 3",
   "language": "python",
   "name": "python3"
  },
  "language_info": {
   "codemirror_mode": {
    "name": "ipython",
    "version": 3
   },
   "file_extension": ".py",
   "mimetype": "text/x-python",
   "name": "python",
   "nbconvert_exporter": "python",
   "pygments_lexer": "ipython3",
   "version": "3.6.5"
  }
 },
 "nbformat": 4,
 "nbformat_minor": 2
}
