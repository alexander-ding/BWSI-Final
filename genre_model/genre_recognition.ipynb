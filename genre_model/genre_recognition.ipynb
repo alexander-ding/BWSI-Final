{
 "cells": [
  {
   "cell_type": "code",
   "execution_count": 11,
   "metadata": {},
   "outputs": [],
   "source": [
    "import numpy as np\n",
    "import mygrad as mg\n",
    "import matplotlib.pyplot as plt\n",
    "import matplotlib.pylab as lab\n",
    "import pandas as pd\n",
    "import warnings\n",
    "import librosa\n",
    "import pickle\n",
    "import microphone\n",
    "from scipy import stats"
   ]
  },
  {
   "cell_type": "code",
   "execution_count": 12,
   "metadata": {},
   "outputs": [
    {
     "name": "stdout",
     "output_type": "stream",
     "text": [
      "(518, 200)\n"
     ]
    }
   ],
   "source": [
    "with open(\"data/genre_model\",\"rb\") as f:\n",
    "    model_parameters = pickle.load(f)\n",
    "data = np.load(\"data/genre_model_aux\")\n",
    "mean = data[\"mean\"]\n",
    "std = data[\"std\"]\n",
    "data = np.load(\"data/songs.npz\")\n",
    "mapping = data[\"mapping\"]\n",
    "print(model_parameters[0].shape)"
   ]
  },
  {
   "cell_type": "code",
   "execution_count": 13,
   "metadata": {},
   "outputs": [],
   "source": [
    "from mynn.activations.relu import relu\n",
    "class NN:\n",
    "    def __init__(self, model_parameters):\n",
    "        self.w1,self.b1,self.w2,self.b2,self.w3,self.b3 = model_parameters\n",
    "    def __call__(self, X):\n",
    "        X = relu(mg.matmul(X, self.w1, True) + self.b1)\n",
    "        X = relu(mg.matmul(X, self.w2, True) + self.b2)\n",
    "        X = mg.matmul(X, self.w3, True) + self.b3\n",
    "        return mg.nnet.activations.softmax(X, constant=True)"
   ]
  },
  {
   "cell_type": "code",
   "execution_count": 14,
   "metadata": {},
   "outputs": [],
   "source": [
    "model = NN(model_parameters)"
   ]
  },
  {
   "cell_type": "code",
   "execution_count": 15,
   "metadata": {},
   "outputs": [],
   "source": [
    "def columns():\n",
    "    feature_sizes = dict(chroma_stft=12, chroma_cqt=12, chroma_cens=12,\n",
    "                         tonnetz=6, mfcc=20, rmse=1, zcr=1,\n",
    "                         spectral_centroid=1, spectral_bandwidth=1,\n",
    "                         spectral_contrast=7, spectral_rolloff=1)\n",
    "    moments = ('mean', 'std', 'skew', 'kurtosis', 'median', 'min', 'max')\n",
    "\n",
    "    columns = []\n",
    "    for name, size in feature_sizes.items():\n",
    "        for moment in moments:\n",
    "            it = ((name, moment, '{:02d}'.format(i+1)) for i in range(size))\n",
    "            columns.extend(it)\n",
    "\n",
    "    names = ('feature', 'statistics', 'number')\n",
    "    columns = pd.MultiIndex.from_tuples(columns, names=names)\n",
    "\n",
    "    # More efficient to slice if indexes are sorted.\n",
    "    return columns.sort_values()\n",
    "\n",
    "\n",
    "def compute_features(x, sr):\n",
    "\n",
    "    features = pd.Series(index=columns(), dtype=np.float32, name=\"features\")\n",
    "    warnings.filterwarnings('ignore', module='librosa')\n",
    "    def feature_stats(name, values):\n",
    "        features[name, 'mean'] = np.mean(values, axis=1)\n",
    "        features[name, 'std'] = np.std(values, axis=1)\n",
    "        features[name, 'skew'] = stats.skew(values, axis=1)\n",
    "        features[name, 'kurtosis'] = stats.kurtosis(values, axis=1)\n",
    "        features[name, 'median'] = np.median(values, axis=1)\n",
    "        features[name, 'min'] = np.min(values, axis=1)\n",
    "        features[name, 'max'] = np.max(values, axis=1)\n",
    "\n",
    "    try:\n",
    "        f = librosa.feature.zero_crossing_rate(x, frame_length=2048, hop_length=512)\n",
    "        feature_stats('zcr', f)\n",
    "        cqt = np.abs(librosa.cqt(x, sr=sr, hop_length=512, bins_per_octave=12,\n",
    "                                 n_bins=7*12, tuning=None))\n",
    "        assert cqt.shape[0] == 7 * 12\n",
    "        assert np.ceil(len(x)/512) <= cqt.shape[1] <= np.ceil(len(x)/512)+1\n",
    "        \n",
    "        f = librosa.feature.chroma_cqt(C=cqt, n_chroma=12, n_octaves=7)\n",
    "        feature_stats('chroma_cqt', f)\n",
    "        f = librosa.feature.chroma_cens(C=cqt, n_chroma=12, n_octaves=7)\n",
    "        feature_stats('chroma_cens', f)\n",
    "        f = librosa.feature.tonnetz(chroma=f)\n",
    "        feature_stats('tonnetz', f)\n",
    "\n",
    "        del cqt\n",
    "        stft = np.abs(librosa.stft(x, n_fft=2048, hop_length=512))\n",
    "        assert stft.shape[0] == 1 + 2048 // 2\n",
    "        assert np.ceil(len(x)/512) <= stft.shape[1] <= np.ceil(len(x)/512)+1\n",
    "        del x\n",
    "        f = librosa.feature.chroma_stft(S=stft**2, n_chroma=12)\n",
    "        feature_stats('chroma_stft', f)\n",
    "\n",
    "        f = librosa.feature.rmse(S=stft)\n",
    "        feature_stats('rmse', f)\n",
    "\n",
    "        f = librosa.feature.spectral_centroid(S=stft)\n",
    "        feature_stats('spectral_centroid', f)\n",
    "        f = librosa.feature.spectral_bandwidth(S=stft)\n",
    "        feature_stats('spectral_bandwidth', f)\n",
    "        f = librosa.feature.spectral_contrast(S=stft, n_bands=6)\n",
    "        feature_stats('spectral_contrast', f)\n",
    "        f = librosa.feature.spectral_rolloff(S=stft)\n",
    "        feature_stats('spectral_rolloff', f)\n",
    "        mel = librosa.feature.melspectrogram(sr=sr, S=stft**2)\n",
    "        del stft\n",
    "        f = librosa.feature.mfcc(S=librosa.power_to_db(mel), n_mfcc=20)\n",
    "        feature_stats('mfcc', f)\n",
    "\n",
    "    except FileNotFoundError as e:\n",
    "        print('{}: {}'.format(tid, repr(e)))\n",
    "\n",
    "    return features"
   ]
  },
  {
   "cell_type": "code",
   "execution_count": 16,
   "metadata": {},
   "outputs": [],
   "source": [
    "# BY FILEPATH\n",
    "\n",
    "from pathlib import Path\n",
    "BASE = Path(\"/Volumes/GoogleDrive/My Drive/GitHub/BWSI_2018/week1_capstone/tests/MP3s\")\n",
    "audio_data, sr = librosa.load(BASE / Path(\"Popper Requiem for three cellos and piano.mp3\"), sr=None, mono=True)  # kaiser_fast"
   ]
  },
  {
   "cell_type": "code",
   "execution_count": 17,
   "metadata": {
    "scrolled": true
   },
   "outputs": [],
   "source": [
    "# BY MICROPHONE\n",
    "def input_mic(t=5):\n",
    "    frames,sr = microphone.record_audio(t)\n",
    "    audio_data_m = np.hstack([np.frombuffer(i, np.int16) for i in frames])\n",
    "    audio_data_m = audio_data_m.astype(\"float\")\n",
    "    audio_data_m /= (2**16)\n",
    "    return audio_data_m"
   ]
  },
  {
   "cell_type": "code",
   "execution_count": 24,
   "metadata": {},
   "outputs": [],
   "source": [
    "def get_label(audio,sr=44100):\n",
    "    features = compute_features(audio,sr)\n",
    "    inp = np.array(features,dtype=\"float64\").reshape(1,len(features))\n",
    "    inp = (inp-mean)/std\n",
    "    output = model(inp)\n",
    "    print(mapping)\n",
    "    print(output)\n",
    "    label = mapping[np.argsort(output.data)[:,::-1][0][0]]\n",
    "    return label"
   ]
  },
  {
   "cell_type": "code",
   "execution_count": 34,
   "metadata": {},
   "outputs": [],
   "source": [
    "from pathlib import Path\n",
    "def to_path_if_not_already(path):\n",
    "    if isinstance(path, Path):\n",
    "        return path\n",
    "    else:\n",
    "        return Path(path)"
   ]
  },
  {
   "cell_type": "code",
   "execution_count": 37,
   "metadata": {},
   "outputs": [],
   "source": [
    "def input_mp3(file_path):\n",
    "    \"\"\" Loads an mp3 file in the given path\n",
    "\n",
    "        Parameters\n",
    "        ----------\n",
    "        file_path: path of the file in the form of a string or pathlib.path\n",
    "\n",
    "        Returns\n",
    "        -------\n",
    "        Audio: the audio of the file as a np.array\n",
    "    \"\"\"\n",
    "    \n",
    "    file_path = to_path_if_not_already(file_path)\n",
    "    audio, _ = librosa.load(file_path, 44100, mono=True)\n",
    "\n",
    "    # saving the digitizes audio data as a numpy array from scale -2**15 to 2**15\n",
    "    return audio"
   ]
  },
  {
   "cell_type": "code",
   "execution_count": 39,
   "metadata": {},
   "outputs": [
    {
     "name": "stdout",
     "output_type": "stream",
     "text": [
      "['Pop' 'Rock' 'Hip-Hop' 'Electronic' 'International' 'Instrumental'\n",
      " 'Experimental' 'Folk']\n",
      "Tensor([[2.14667182e-02, 4.95515579e-03, 9.39783695e-01, 5.69287132e-03,\n",
      "         1.03887158e-02, 4.12112999e-04, 1.56973513e-02, 1.60337904e-03]])\n"
     ]
    },
    {
     "data": {
      "text/plain": [
       "'Hip-Hop'"
      ]
     },
     "execution_count": 39,
     "metadata": {},
     "output_type": "execute_result"
    }
   ],
   "source": [
    "base = \"/Volumes/GoogleDrive/My Drive/GitHub/BWSI_2018/week1_capstone/tests/MP3s\"\n",
    "get_label(input_mp3(base+\"/Timeflies - Gravity (Official Audio).mp3\"))"
   ]
  },
  {
   "cell_type": "code",
   "execution_count": null,
   "metadata": {},
   "outputs": [],
   "source": []
  },
  {
   "cell_type": "code",
   "execution_count": null,
   "metadata": {},
   "outputs": [],
   "source": []
  }
 ],
 "metadata": {
  "kernelspec": {
   "display_name": "Python 3",
   "language": "python",
   "name": "python3"
  },
  "language_info": {
   "codemirror_mode": {
    "name": "ipython",
    "version": 3
   },
   "file_extension": ".py",
   "mimetype": "text/x-python",
   "name": "python",
   "nbconvert_exporter": "python",
   "pygments_lexer": "ipython3",
   "version": "3.6.5"
  }
 },
 "nbformat": 4,
 "nbformat_minor": 2
}
