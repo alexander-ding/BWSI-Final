{
 "cells": [
  {
   "cell_type": "code",
   "execution_count": 11,
   "metadata": {},
   "outputs": [],
   "source": [
    "import numpy as np\n",
    "from mygrad import sliding_window_view\n",
    "from collections import Counter\n",
    "from time import time"
   ]
  },
  {
   "cell_type": "code",
   "execution_count": null,
   "metadata": {},
   "outputs": [],
   "source": []
  },
  {
   "cell_type": "code",
   "execution_count": 12,
   "metadata": {},
   "outputs": [],
   "source": [
    "RED = 1\n",
    "YELLOW = 10"
   ]
  },
  {
   "cell_type": "code",
   "execution_count": 3,
   "metadata": {},
   "outputs": [],
   "source": [
    "\n",
    "plays = Counter()\n",
    "wins = Counter()"
   ]
  },
  {
   "cell_type": "code",
   "execution_count": 13,
   "metadata": {},
   "outputs": [],
   "source": [
    "def possible_fours(board):\n",
    "    h = sliding_window_view(board,(1,4),1).reshape(-1,4)\n",
    "    v = sliding_window_view(board.T,(1,4),1).reshape(-1,4)\n",
    "    d1 = sliding_window_view(board,(4,4),1).reshape(-1,4,4).transpose(1,2,0).diagonal()\n",
    "    d2 = sliding_window_view(board[:,::-1],(4,4),1).reshape(-1,4,4).transpose(1,2,0).diagonal()\n",
    "    return h,v,d1,d2\n",
    "\n",
    "def four_in_row(board):\n",
    "    for possible_four in possible_fours(board):\n",
    "        total = np.sum(possible_four,axis=1)\n",
    "        if total[total == RED * 4].size > 0:\n",
    "\n",
    "            return RED\n",
    "        if total[total == YELLOW * 4].size > 0:\n",
    "            return YELLOW\n",
    "    if 0 not in board:\n",
    "        return -1\n",
    "    return 0\n",
    "def valid_move(move,column_heights):\n",
    "    moves = possible_moves(column_heights)\n",
    "    return moves[moves == move].size\n",
    "def possible_moves(column_heights):\n",
    "    return np.array(np.where(column_heights < 6)).reshape(-1)\n",
    "def apply_move(move,color,board,column_heights):\n",
    "    assert  column_heights[move] < 6\n",
    "    \n",
    "    board[5-column_heights[move],move] = color\n",
    "    column_heights[move] += 1\n",
    "    return board\n",
    "\n",
    "def next_boards(color,board,column_heights):\n",
    "    next = []\n",
    "    for move in possible_moves(column_heights):\n",
    "        next.append(str(apply_move(move,color,board.copy(),column_heights.copy())))\n",
    "    return next\n",
    "def change_color(color):\n",
    "    return RED if color == YELLOW else YELLOW"
   ]
  },
  {
   "cell_type": "code",
   "execution_count": 14,
   "metadata": {},
   "outputs": [],
   "source": [
    "def get_MCTS_move(board,columm_heights,color,calc_time=3,depth=10,plays=None,wins=None,stats=True):\n",
    "    \n",
    "    moves = possible_moves(columm_heights)\n",
    "    if moves.size == 0:\n",
    "        return\n",
    "    if moves.size == 1:\n",
    "        return moves[0]\n",
    "    if plays is None:\n",
    "        plays = Counter()\n",
    "    if wins is None:\n",
    "        wins = Counter()\n",
    "    \n",
    "    games = 0\n",
    "    begin = time()\n",
    "    while time() - begin < calc_time:\n",
    "        b = board.copy()\n",
    "        c = columm_heights.copy()\n",
    "        run_MCTS_sim(b,c,color,plays,wins)\n",
    "        games += 1\n",
    "\n",
    "    winrate, move = max(\n",
    "            (wins.get((color, S), 0) /\n",
    "             plays.get((color, S), 1),\n",
    "             p)\n",
    "            for p, S in zip(moves,next_boards(color,board,columm_heights)))\n",
    "    if stats:\n",
    "        print(\"simulations:{} move:{} winrate:{}\".format(games,move,winrate))\n",
    "    return move"
   ]
  },
  {
   "cell_type": "code",
   "execution_count": 15,
   "metadata": {},
   "outputs": [],
   "source": [
    "def run_MCTS_sim(board,column_heights,color,plays,wins):\n",
    "    visited_boards = set()\n",
    "    turn = np.sum(column_heights)\n",
    "    win = 0\n",
    "    expand = 2\n",
    "    for t in np.arange(42 - turn):\n",
    "        legal_moves = possible_moves(column_heights)\n",
    "        move = np.random.choice(legal_moves)\n",
    "        apply_move(move,color,board,column_heights)\n",
    "        if expand and (color, str(board)) not in plays:\n",
    "            expand -= 1\n",
    "            plays[(color,str(board))] = 0\n",
    "            wins[(color,str(board))] = 0\n",
    "        visited_boards.add((color,str(board)))\n",
    "        \n",
    "        color = change_color(color)\n",
    "        \n",
    "        win = four_in_row(board)\n",
    "        if win:\n",
    "            break\n",
    "    for c, b in visited_boards:\n",
    "        if (c,b) not in plays:\n",
    "            continue\n",
    "        plays[(c,b)] += 1\n",
    "        if c == win:\n",
    "            wins[(c,b)] += 1\n",
    "    return plays, wins\n",
    "            \n",
    "        "
   ]
  },
  {
   "cell_type": "code",
   "execution_count": null,
   "metadata": {},
   "outputs": [],
   "source": []
  },
  {
   "cell_type": "code",
   "execution_count": 21,
   "metadata": {},
   "outputs": [],
   "source": [
    "def training(plays=None,wins=None):\n",
    "    board = np.zeros((6,7),dtype=np.int)\n",
    "    column_heights = np.zeros(7,dtype=np.int)\n",
    "    color = RED\n",
    "    while not four_in_row(board):\n",
    "        move = get_MCTS_move(board,column_heights,color,plays=plays,wins=wins,stats=False)\n",
    "        apply_move(move,color,board,column_heights)\n",
    "        color = change_color(color)\n",
    "    print(\"winner: \", four_in_row(board))"
   ]
  },
  {
   "cell_type": "code",
   "execution_count": 22,
   "metadata": {},
   "outputs": [],
   "source": [
    "def computer_vs_computer(plays=None,wins=None):\n",
    "    board = np.zeros((6,7),dtype=np.int)\n",
    "    column_heights = np.zeros(7,dtype=np.int)\n",
    "    color = RED\n",
    "    print(board)\n",
    "    while not four_in_row(board):\n",
    "        move = get_MCTS_move(board,column_heights,color,plays=plays,wins=wins)\n",
    "        apply_move(move,color,board,column_heights)\n",
    "        color = change_color(color)\n",
    "        print(board)\n",
    "    print(\"winner: \", four_in_row(board))"
   ]
  },
  {
   "cell_type": "code",
   "execution_count": 23,
   "metadata": {},
   "outputs": [],
   "source": [
    "def human_vs_computer(plays=None,wins=None):\n",
    "    board = np.zeros((6,7),dtype=np.int)\n",
    "    column_heights = np.zeros(7,dtype=np.int)\n",
    "    color = RED\n",
    "    print(board)\n",
    "    while not four_in_row(board):\n",
    "        if color == RED:\n",
    "            move = int(input(\"Enter column:\")) -1\n",
    "        else:\n",
    "            move = get_MCTS_move(board,column_heights,color,plays=plays,wins=wins)\n",
    "        apply_move(move,color,board,column_heights)\n",
    "        color = change_color(color)\n",
    "        print(board)\n",
    "    print(\"winner: \", four_in_row(board))"
   ]
  },
  {
   "cell_type": "code",
   "execution_count": 24,
   "metadata": {},
   "outputs": [
    {
     "name": "stdout",
     "output_type": "stream",
     "text": [
      "winner:  1\n",
      "winner:  10\n",
      "winner:  10\n",
      "winner:  10\n",
      "winner:  1\n",
      "winner:  10\n",
      "winner:  10\n",
      "winner:  10\n",
      "winner:  10\n",
      "winner:  10\n"
     ]
    }
   ],
   "source": [
    "import pickle\n",
    "import pickle\n",
    "with open('plays.pkl',mode='rb') as f:\n",
    "    plays = pickle.load(f)\n",
    "with open('wins.pkl',mode='rb') as f:\n",
    "    wins = pickle.load(f)\n",
    "    \n",
    "for i in range(10):\n",
    "    training(plays,wins)\n",
    "with open('plays.pkl',mode='wb') as f:\n",
    "    pickle.dump(plays,f)\n",
    "with open('wins.pkl',mode='wb') as f:\n",
    "    pickle.dump(wins,f)  \n",
    "    "
   ]
  },
  {
   "cell_type": "code",
   "execution_count": null,
   "metadata": {
    "scrolled": false
   },
   "outputs": [],
   "source": []
  },
  {
   "cell_type": "code",
   "execution_count": null,
   "metadata": {},
   "outputs": [],
   "source": [
    "import pickle\n",
    "with open('plays.pkl',mode='wb') as f:\n",
    "    pickle.dump(plays,f)\n",
    "with open('wins.pkl',mode='wb') as f:\n",
    "    pickle.dump(wins,f)"
   ]
  },
  {
   "cell_type": "code",
   "execution_count": null,
   "metadata": {},
   "outputs": [],
   "source": []
  }
 ],
 "metadata": {
  "kernelspec": {
   "display_name": "Python 3",
   "language": "python",
   "name": "python3"
  },
  "language_info": {
   "codemirror_mode": {
    "name": "ipython",
    "version": 3
   },
   "file_extension": ".py",
   "mimetype": "text/x-python",
   "name": "python",
   "nbconvert_exporter": "python",
   "pygments_lexer": "ipython3",
   "version": "3.6.5"
  }
 },
 "nbformat": 4,
 "nbformat_minor": 2
}
